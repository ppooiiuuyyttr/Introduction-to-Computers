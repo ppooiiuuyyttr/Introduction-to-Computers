{
  "nbformat": 4,
  "nbformat_minor": 0,
  "metadata": {
    "colab": {
      "provenance": [],
      "authorship_tag": "ABX9TyMr4Y/6lz4tzvam9YaGryUw",
      "include_colab_link": true
    },
    "kernelspec": {
      "name": "python3",
      "display_name": "Python 3"
    },
    "language_info": {
      "name": "python"
    }
  },
  "cells": [
    {
      "cell_type": "markdown",
      "metadata": {
        "id": "view-in-github",
        "colab_type": "text"
      },
      "source": [
        "<a href=\"https://colab.research.google.com/github/ppooiiuuyyttr/Introduction-to-Computers/blob/main/0503.ipynb\" target=\"_parent\"><img src=\"https://colab.research.google.com/assets/colab-badge.svg\" alt=\"Open In Colab\"/></a>"
      ]
    },
    {
      "cell_type": "code",
      "execution_count": 3,
      "metadata": {
        "colab": {
          "base_uri": "https://localhost:8080/"
        },
        "id": "irYGKZjUzm5O",
        "outputId": "fcb529c9-6c49-4e7c-b9f9-5cfee1316a51"
      },
      "outputs": [
        {
          "output_type": "stream",
          "name": "stdout",
          "text": [
            "hello\n",
            "hello\n"
          ]
        }
      ],
      "source": [
        "#第一題\n",
        "a=input()\n",
        "print(a)"
      ]
    },
    {
      "cell_type": "code",
      "source": [
        "#第二題\n",
        "N=int(input())\n",
        "totalA=0\n",
        "for i in range(10,N+1):\n",
        " totalA+=i\n",
        "print(totalA)"
      ],
      "metadata": {
        "colab": {
          "base_uri": "https://localhost:8080/"
        },
        "id": "jGMebBh7z3-3",
        "outputId": "1bea9db0-1be0-4fd4-a248-41c7c6c9c2d1"
      },
      "execution_count": 9,
      "outputs": [
        {
          "output_type": "stream",
          "name": "stdout",
          "text": [
            "15\n",
            "75\n"
          ]
        }
      ]
    },
    {
      "cell_type": "code",
      "source": [
        "#第三題\n",
        "b=input()\n",
        "print(len(b))"
      ],
      "metadata": {
        "colab": {
          "base_uri": "https://localhost:8080/"
        },
        "id": "p7gLkzoZ0dpR",
        "outputId": "afc9bfef-084a-494c-d7e3-07f36297d76a"
      },
      "execution_count": 5,
      "outputs": [
        {
          "output_type": "stream",
          "name": "stdout",
          "text": [
            "hello panda hi hi\n",
            "17\n"
          ]
        }
      ]
    },
    {
      "cell_type": "code",
      "source": [
        "#第四題\n",
        "h,w=input().split()\n",
        "new_h=int(h)\n",
        "new_w=int(w)\n",
        "m_h=new_h/100\n",
        "bmi=new_w/m_h**2\n",
        "print(\"%.2f\"%bmi)"
      ],
      "metadata": {
        "colab": {
          "base_uri": "https://localhost:8080/"
        },
        "id": "pI83SiIo0dzH",
        "outputId": "3e5052f5-69ac-497a-e0e2-5b72556292c3"
      },
      "execution_count": 6,
      "outputs": [
        {
          "output_type": "stream",
          "name": "stdout",
          "text": [
            "180 70\n",
            "21.60\n"
          ]
        }
      ]
    }
  ]
}