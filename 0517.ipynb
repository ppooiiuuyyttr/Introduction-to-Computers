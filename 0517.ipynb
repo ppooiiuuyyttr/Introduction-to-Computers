{
  "nbformat": 4,
  "nbformat_minor": 0,
  "metadata": {
    "colab": {
      "provenance": [],
      "authorship_tag": "ABX9TyMO/Ay2Bog748EPJEKG1OQ/",
      "include_colab_link": true
    },
    "kernelspec": {
      "name": "python3",
      "display_name": "Python 3"
    },
    "language_info": {
      "name": "python"
    }
  },
  "cells": [
    {
      "cell_type": "markdown",
      "metadata": {
        "id": "view-in-github",
        "colab_type": "text"
      },
      "source": [
        "<a href=\"https://colab.research.google.com/github/ppooiiuuyyttr/Introduction-to-Computers/blob/main/0517.ipynb\" target=\"_parent\"><img src=\"https://colab.research.google.com/assets/colab-badge.svg\" alt=\"Open In Colab\"/></a>"
      ]
    },
    {
      "cell_type": "code",
      "source": [
        "rain=input(\"今天會下雨嗎\")\n",
        "if (rain==\"y\"or rain==\"Y\"):\n",
        "    print('帶雨傘')\n",
        "elif (rain==\"n\"or rain==\"N\"):\n",
        "    print('不用帶雨傘')\n",
        "else:\n",
        "    print('請重新輸入')"
      ],
      "metadata": {
        "colab": {
          "base_uri": "https://localhost:8080/"
        },
        "id": "lYDxhCaRCOeb",
        "outputId": "dc1f9a85-9d73-407c-ee18-ca87c7830811"
      },
      "execution_count": 38,
      "outputs": [
        {
          "output_type": "stream",
          "name": "stdout",
          "text": [
            "今天會下雨嗎a\n",
            "請重新輸入\n"
          ]
        }
      ]
    },
    {
      "cell_type": "code",
      "execution_count": 1,
      "metadata": {
        "colab": {
          "base_uri": "https://localhost:8080/"
        },
        "id": "VsaJywYd0Q26",
        "outputId": "14f3f8a5-048a-4bae-dbfb-5358fe98be6d"
      },
      "outputs": [
        {
          "output_type": "stream",
          "name": "stdout",
          "text": [
            "score: 80\n",
            "Grade is: B\n"
          ]
        }
      ],
      "source": [
        "score = int(input(\"score: \"))\n",
        "if score >= 90:\n",
        "    print('Grade is: A')\n",
        "elif score >= 80:\n",
        "    print('Grade is: B')\n",
        "elif score >= 70:\n",
        "    print('Grade is: C')\n",
        "elif score >= 60:\n",
        "    print('Grade is: D')\n",
        "else:\n",
        "    print('Grade is: F')"
      ]
    },
    {
      "cell_type": "code",
      "source": [
        "score = int(input(\"請輸入成績\"))\n",
        "if score >= 90:\n",
        "    print('A')\n",
        "elif score >= 80:\n",
        "    print('B')\n",
        "elif score >= 70:\n",
        "    print('C')\n",
        "elif score >= 60:\n",
        "    print('D')\n",
        "else:\n",
        "    print('F')"
      ],
      "metadata": {
        "colab": {
          "base_uri": "https://localhost:8080/"
        },
        "id": "fojCOUTIBW48",
        "outputId": "815e4813-338c-456f-ebbe-90367d0a3196"
      },
      "execution_count": 35,
      "outputs": [
        {
          "output_type": "stream",
          "name": "stdout",
          "text": [
            "請輸入成績90\n",
            "A\n"
          ]
        }
      ]
    },
    {
      "cell_type": "code",
      "source": [
        "season = int(input(\"season: \"))\n",
        "if season == 3 or season ==4 or season ==5:\n",
        "    print('season is: 春天')\n",
        "elif season == 6 or season ==7 or season ==8:\n",
        "    print('season is: 夏天')\n",
        "elif season == 9 or season ==10 or season ==11:\n",
        "    print('season is: 秋天')\n",
        "elif season == 12 or season ==1 or season ==2:\n",
        "    print('season is: 冬天')\n",
        "else:\n",
        "    print('月份不在範圍內!')"
      ],
      "metadata": {
        "colab": {
          "base_uri": "https://localhost:8080/"
        },
        "id": "Vpm00cQh1QNI",
        "outputId": "04f03f66-7ddb-4691-bdf3-3ec07d60ec4d"
      },
      "execution_count": 6,
      "outputs": [
        {
          "output_type": "stream",
          "name": "stdout",
          "text": [
            "season: 3\n",
            "season is: 春天\n"
          ]
        }
      ]
    },
    {
      "cell_type": "code",
      "source": [
        "t = float(input(\"請輸入體溫: \"))\n",
        "if t >= 37.5:\n",
        "    print(\"體溫過高!\")\n",
        "elif t >= 37 :\n",
        "    print(\"體溫略高!\")\n",
        "elif t >= 34:\n",
        "    print(\"體溫正常!\")\n",
        "elif t < 34:\n",
        "    print('體溫異常，請重新量測!')"
      ],
      "metadata": {
        "colab": {
          "base_uri": "https://localhost:8080/"
        },
        "id": "nIVaqo-f3kpR",
        "outputId": "cc3acb56-bb0d-45b5-9b82-371b8238c875"
      },
      "execution_count": 26,
      "outputs": [
        {
          "output_type": "stream",
          "name": "stdout",
          "text": [
            "請輸入體溫: 35.6\n",
            "體溫正常!\n"
          ]
        }
      ]
    },
    {
      "cell_type": "code",
      "source": [
        "s = int(input(\"請輸入今年收入淨額: \"))\n",
        "if s >= 2000000:\n",
        "  f=s*0.3\n",
        "  print(f)\n",
        "elif s >= 1000000:\n",
        "   f=s*0.21\n",
        "   print(f)\n",
        "elif s >= 600000:\n",
        "   f=s*0.13\n",
        "   print(f)\n",
        "elif s < 300000:\n",
        "   f=s*0.06\n",
        "   print(f)"
      ],
      "metadata": {
        "colab": {
          "base_uri": "https://localhost:8080/"
        },
        "id": "y-GbSnju49wQ",
        "outputId": "d673dd80-7ffe-4d7e-d466-23c0ba8e03e6"
      },
      "execution_count": 39,
      "outputs": [
        {
          "output_type": "stream",
          "name": "stdout",
          "text": [
            "請輸入今年收入淨額: 2000000\n",
            "600000.0\n"
          ]
        }
      ]
    }
  ]
}